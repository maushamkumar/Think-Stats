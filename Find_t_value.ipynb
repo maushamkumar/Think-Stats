{
  "nbformat": 4,
  "nbformat_minor": 0,
  "metadata": {
    "colab": {
      "provenance": [],
      "authorship_tag": "ABX9TyOFBh5Ohjxw1bTkLokYMSfg",
      "include_colab_link": true
    },
    "kernelspec": {
      "name": "python3",
      "display_name": "Python 3"
    },
    "language_info": {
      "name": "python"
    }
  },
  "cells": [
    {
      "cell_type": "markdown",
      "metadata": {
        "id": "view-in-github",
        "colab_type": "text"
      },
      "source": [
        "<a href=\"https://colab.research.google.com/github/maushamkumar/Think-Stats/blob/main/Find_t_value.ipynb\" target=\"_parent\"><img src=\"https://colab.research.google.com/assets/colab-badge.svg\" alt=\"Open In Colab\"/></a>"
      ]
    },
    {
      "cell_type": "code",
      "execution_count": 1,
      "metadata": {
        "colab": {
          "base_uri": "https://localhost:8080/"
        },
        "id": "dq440gygkqrD",
        "outputId": "12bb6131-f569-4ed8-9173-0b81735fb31f"
      },
      "outputs": [
        {
          "output_type": "stream",
          "name": "stdout",
          "text": [
            "0.1116757390828102\n"
          ]
        }
      ],
      "source": [
        "from scipy.stats import t\n",
        "\n",
        "# set the t-value and degrees of freedom\n",
        "t_value = -1.25\n",
        "df = 24 # Replace this with your degrees of freedom value\n",
        "\n",
        "# Calculate the CDF\n",
        "cdf_value = t.cdf(t_value, df)\n",
        "\n",
        "print(cdf_value)"
      ]
    },
    {
      "cell_type": "code",
      "source": [
        "0.111 * 2"
      ],
      "metadata": {
        "colab": {
          "base_uri": "https://localhost:8080/"
        },
        "id": "5noKN2AGlRLk",
        "outputId": "30c438e9-59ea-47f2-8a16-d5d3456774f9"
      },
      "execution_count": 2,
      "outputs": [
        {
          "output_type": "execute_result",
          "data": {
            "text/plain": [
              "0.222"
            ]
          },
          "metadata": {},
          "execution_count": 2
        }
      ]
    },
    {
      "cell_type": "code",
      "source": [],
      "metadata": {
        "id": "aAjVvr85ldJ3"
      },
      "execution_count": null,
      "outputs": []
    }
  ]
}
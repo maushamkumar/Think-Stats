{
  "nbformat": 4,
  "nbformat_minor": 0,
  "metadata": {
    "colab": {
      "provenance": [],
      "authorship_tag": "ABX9TyN6/QCoLk8ijK7yXmQuEtvb",
      "include_colab_link": true
    },
    "kernelspec": {
      "name": "python3",
      "display_name": "Python 3"
    },
    "language_info": {
      "name": "python"
    }
  },
  "cells": [
    {
      "cell_type": "markdown",
      "metadata": {
        "id": "view-in-github",
        "colab_type": "text"
      },
      "source": [
        "<a href=\"https://colab.research.google.com/github/maushamkumar/Think-Stats/blob/main/p_value.ipynb\" target=\"_parent\"><img src=\"https://colab.research.google.com/assets/colab-badge.svg\" alt=\"Open In Colab\"/></a>"
      ]
    },
    {
      "cell_type": "code",
      "execution_count": null,
      "metadata": {
        "id": "cHvpg46Nyh1o"
      },
      "outputs": [],
      "source": [
        "from scipy.stats import t\n",
        "\n",
        "# Set the t-value and degrees of freedom\n",
        "t_value = -5.25\n",
        "df = 58  # Replace this with your specific degrees of freedom\n",
        "\n",
        "# Calculate the CDF value\n",
        "cdf_value = t.cdf(t_value, df)\n",
        "print(cdf_value*2)\n"
      ]
    }
  ]
}
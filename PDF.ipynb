{
  "nbformat": 4,
  "nbformat_minor": 0,
  "metadata": {
    "colab": {
      "provenance": [],
      "authorship_tag": "ABX9TyN6EB/5hSzZPJl2nF0Qe5T6",
      "include_colab_link": true
    },
    "kernelspec": {
      "name": "python3",
      "display_name": "Python 3"
    },
    "language_info": {
      "name": "python"
    }
  },
  "cells": [
    {
      "cell_type": "markdown",
      "metadata": {
        "id": "view-in-github",
        "colab_type": "text"
      },
      "source": [
        "<a href=\"https://colab.research.google.com/github/maushamkumar/Think-Stats/blob/main/PDF.ipynb\" target=\"_parent\"><img src=\"https://colab.research.google.com/assets/colab-badge.svg\" alt=\"Open In Colab\"/></a>"
      ]
    },
    {
      "cell_type": "code",
      "execution_count": 1,
      "metadata": {
        "id": "xoCfPkyKpjkl"
      },
      "outputs": [],
      "source": [
        "import pandas as pd\n",
        "import random"
      ]
    },
    {
      "cell_type": "code",
      "source": [
        "l = []\n",
        "for i in range(10000): # We are rolling a dice for 10000 times\n",
        "  l.append(random.randint(1,6))"
      ],
      "metadata": {
        "id": "ljt4epmhppUa"
      },
      "execution_count": 2,
      "outputs": []
    },
    {
      "cell_type": "code",
      "source": [
        "l[:5]"
      ],
      "metadata": {
        "colab": {
          "base_uri": "https://localhost:8080/"
        },
        "id": "TngsDgMDp1JX",
        "outputId": "33080240-e9ee-4175-dae7-af3decc70e63"
      },
      "execution_count": 5,
      "outputs": [
        {
          "output_type": "execute_result",
          "data": {
            "text/plain": [
              "[2, 3, 1, 2, 5]"
            ]
          },
          "metadata": {},
          "execution_count": 5
        }
      ]
    },
    {
      "cell_type": "code",
      "source": [
        "s = (pd.Series(l).value_counts()/pd.Series(l).value_counts().sum()).sort_index()\n",
        "# pd.Series(l).value_counts() => This code tells us how many times each element has occurred in l.,\n",
        "# pd.Series(l).value_counts().sum()=> The total number of value that we have\n",
        "# Once I have done this. Now I have got the probability of each element."
      ],
      "metadata": {
        "id": "YswETRQgp1zq"
      },
      "execution_count": 10,
      "outputs": []
    },
    {
      "cell_type": "code",
      "source": [
        "s"
      ],
      "metadata": {
        "colab": {
          "base_uri": "https://localhost:8080/"
        },
        "id": "Svx5yfwPp_IK",
        "outputId": "0269940e-1a70-41aa-f566-d560c22f8f87"
      },
      "execution_count": 11,
      "outputs": [
        {
          "output_type": "execute_result",
          "data": {
            "text/plain": [
              "1    0.1650\n",
              "2    0.1702\n",
              "3    0.1712\n",
              "4    0.1650\n",
              "5    0.1660\n",
              "6    0.1626\n",
              "Name: count, dtype: float64"
            ]
          },
          "metadata": {},
          "execution_count": 11
        }
      ]
    },
    {
      "cell_type": "code",
      "source": [
        "s.plot(kind='bar')"
      ],
      "metadata": {
        "colab": {
          "base_uri": "https://localhost:8080/",
          "height": 442
        },
        "id": "a8mDRNQWrFpe",
        "outputId": "50b336d5-a00c-4944-bca0-96f75ee81693"
      },
      "execution_count": 12,
      "outputs": [
        {
          "output_type": "execute_result",
          "data": {
            "text/plain": [
              "<Axes: >"
            ]
          },
          "metadata": {},
          "execution_count": 12
        },
        {
          "output_type": "display_data",
          "data": {
            "text/plain": [
              "<Figure size 640x480 with 1 Axes>"
            ],
            "image/png": "[encoded data removed]"
          },
          "metadata": {}
        }
      ]
    },
    {
      "cell_type": "markdown",
      "source": [
        "This is the PMF of this random experiment."
      ],
      "metadata": {
        "id": "juqQ5HaerVSG"
      }
    },
    {
      "cell_type": "markdown",
      "source": [
        "### Let's do for two dices"
      ],
      "metadata": {
        "id": "adLSLElWrosx"
      }
    },
    {
      "cell_type": "code",
      "source": [
        "l = []\n",
        "for i in range(10000):\n",
        "  a = (random.randint(1,6))\n",
        "  b = (random.randint(1,6))\n",
        "  l.append(a+b)"
      ],
      "metadata": {
        "id": "eEubM2H-rQ1F"
      },
      "execution_count": 13,
      "outputs": []
    },
    {
      "cell_type": "code",
      "source": [
        "l[:5]"
      ],
      "metadata": {
        "colab": {
          "base_uri": "https://localhost:8080/"
        },
        "id": "AGEf9Th8r2ps",
        "outputId": "405573e2-78d6-4041-efe5-40e49090ab92"
      },
      "execution_count": 15,
      "outputs": [
        {
          "output_type": "execute_result",
          "data": {
            "text/plain": [
              "[6, 7, 8, 8, 7]"
            ]
          },
          "metadata": {},
          "execution_count": 15
        }
      ]
    },
    {
      "cell_type": "code",
      "source": [
        "pd.Series(l).value_counts()/pd.Series(l).value_counts().sum() # We got the probabilities"
      ],
      "metadata": {
        "colab": {
          "base_uri": "https://localhost:8080/"
        },
        "id": "qD_vfr-hr3M4",
        "outputId": "f023a3fd-1ce3-4304-947d-f41c62d20c81"
      },
      "execution_count": 17,
      "outputs": [
        {
          "output_type": "execute_result",
          "data": {
            "text/plain": [
              "7     0.1694\n",
              "8     0.1422\n",
              "6     0.1396\n",
              "5     0.1122\n",
              "9     0.1112\n",
              "10    0.0820\n",
              "4     0.0806\n",
              "11    0.0561\n",
              "3     0.0554\n",
              "12    0.0257\n",
              "2     0.0256\n",
              "Name: count, dtype: float64"
            ]
          },
          "metadata": {},
          "execution_count": 17
        }
      ]
    },
    {
      "cell_type": "code",
      "source": [
        "M = (pd.Series(l).value_counts()/pd.Series(l).value_counts().sum()).sort_index()"
      ],
      "metadata": {
        "id": "rUwQ50BSsCGS"
      },
      "execution_count": 18,
      "outputs": []
    },
    {
      "cell_type": "code",
      "source": [
        "M.plot(kind='bar')"
      ],
      "metadata": {
        "colab": {
          "base_uri": "https://localhost:8080/",
          "height": 451
        },
        "id": "I4Dkvp_fsN5d",
        "outputId": "135079fd-4506-44f1-cc8d-fc90dd7b7004"
      },
      "execution_count": 19,
      "outputs": [
        {
          "output_type": "execute_result",
          "data": {
            "text/plain": [
              "<Axes: >"
            ]
          },
          "metadata": {},
          "execution_count": 19
        },
        {
          "output_type": "display_data",
          "data": {
            "text/plain": [
              "<Figure size 640x480 with 1 Axes>"
            ],
            "image/png": "[encoded data removed]"
          },
          "metadata": {}
        }
      ]
    },
    {
      "cell_type": "markdown",
      "source": [
        "### Let's do this coin tossing!"
      ],
      "metadata": {
        "id": "qV0Y5fx4scsA"
      }
    },
    {
      "cell_type": "code",
      "source": [
        "L = []\n",
        "for i in range(10000):\n",
        "  L.append(random.randint(0,1))"
      ],
      "metadata": {
        "id": "mNIuJy85sPz7"
      },
      "execution_count": 21,
      "outputs": []
    },
    {
      "cell_type": "code",
      "source": [
        "L[:5]"
      ],
      "metadata": {
        "colab": {
          "base_uri": "https://localhost:8080/"
        },
        "id": "t1x9btBpstQ1",
        "outputId": "83837fc8-ac4a-4184-ee1f-a8dd53b475cd"
      },
      "execution_count": 22,
      "outputs": [
        {
          "output_type": "execute_result",
          "data": {
            "text/plain": [
              "[0, 1, 1, 0, 0]"
            ]
          },
          "metadata": {},
          "execution_count": 22
        }
      ]
    },
    {
      "cell_type": "code",
      "source": [
        "P = (pd.Series(L).value_counts()/pd.Series(L).value_counts().sum()).sort_index()"
      ],
      "metadata": {
        "id": "hVfi-vRMsucv"
      },
      "execution_count": 24,
      "outputs": []
    },
    {
      "cell_type": "code",
      "source": [
        "P.plot(kind='bar')"
      ],
      "metadata": {
        "colab": {
          "base_uri": "https://localhost:8080/",
          "height": 442
        },
        "id": "frm72Iips5Nr",
        "outputId": "991c6c84-15e6-430a-b073-3caca37f334a"
      },
      "execution_count": 25,
      "outputs": [
        {
          "output_type": "execute_result",
          "data": {
            "text/plain": [
              "<Axes: >"
            ]
          },
          "metadata": {},
          "execution_count": 25
        },
        {
          "output_type": "display_data",
          "data": {
            "text/plain": [
              "<Figure size 640x480 with 1 Axes>"
            ],
            "image/png": "[encoded data removed]"
          },
          "metadata": {}
        }
      ]
    },
    {
      "cell_type": "code",
      "source": [
        "# do it for 5 dices"
      ],
      "metadata": {
        "id": "PLbQImdss-o2"
      },
      "execution_count": null,
      "outputs": []
    }
  ]
}
{
 "cells": [
  {
   "cell_type": "code",
   "execution_count": 1,
   "id": "23b47650-db69-4a11-ba70-49eb5e3d65e9",
   "metadata": {},
   "outputs": [],
   "source": [
    "from os.path import basename, exists"
   ]
  },
  {
   "cell_type": "code",
   "execution_count": 2,
   "id": "8e0acbc1-8d4c-4b69-8ffd-ce0569abdd82",
   "metadata": {},
   "outputs": [],
   "source": [
    "def download(url):\n",
    "    filename = basename(url)\n",
    "    if not exists(filename):\n",
    "        from urllib.request import urlretrieve\n",
    "\n",
    "        local, _ = urlretrieve(url, filename)\n",
    "        print('Downloaded' + local)"
   ]
  },
  {
   "cell_type": "code",
   "execution_count": 5,
   "id": "b82340f5-f272-4e66-9a6a-e2041848bc36",
   "metadata": {},
   "outputs": [
    {
     "name": "stdout",
     "output_type": "stream",
     "text": [
      "Downloadedthinkstats2.py\n",
      "Downloadedthinkplot.py\n"
     ]
    }
   ],
   "source": [
    "download(\"https://github.com/AllenDowney/ThinkStats2/raw/master/code/thinkstats2.py\")\n",
    "download(\"https://github.com/AllenDowney/ThinkStats2/raw/master/code/thinkplot.py\")"
   ]
  },
  {
   "cell_type": "code",
   "execution_count": 6,
   "id": "bab4eb02-3a47-4a16-8ca0-252857569fa3",
   "metadata": {},
   "outputs": [
    {
     "name": "stdout",
     "output_type": "stream",
     "text": [
      "Downloadednsfg.py\n",
      "Downloaded2002FemPreg.dct\n",
      "Downloaded2002FemPreg.dat.gz\n"
     ]
    }
   ],
   "source": [
    "download(\"https://github.com/AllenDowney/ThinkStats2/raw/master/code/nsfg.py\")\n",
    "\n",
    "download(\"https://github.com/AllenDowney/ThinkStats2/raw/master/code/2002FemPreg.dct\")\n",
    "download(\n",
    "    \"https://github.com/AllenDowney/ThinkStats2/raw/master/code/2002FemPreg.dat.gz\"\n",
    ")"
   ]
  },
  {
   "cell_type": "markdown",
   "id": "84b156cb-5cc9-4bff-886d-423f9dcd6bea",
   "metadata": {},
   "source": [
    "# Examples from Chapter 1"
   ]
  },
  {
   "cell_type": "markdown",
   "id": "a5c19d1e-8e49-438b-906d-c5ee21cc713c",
   "metadata": {},
   "source": [
    "Read NSFG data into a Pandas DataFrame.\n"
   ]
  },
  {
   "cell_type": "code",
   "execution_count": 3,
   "id": "4df948b7-770d-4ebb-91d9-511ffdad26d0",
   "metadata": {},
   "outputs": [],
   "source": [
    "import nsfg"
   ]
  },
  {
   "cell_type": "code",
   "execution_count": 4,
   "id": "12d68a14-031a-4973-a9ec-8ca2e9086fe7",
   "metadata": {},
   "outputs": [],
   "source": [
    "preg = nsfg.ReadFemPreg()"
   ]
  },
  {
   "cell_type": "code",
   "execution_count": 5,
   "id": "3e96b500-9447-4747-97f1-b2c471516f56",
   "metadata": {},
   "outputs": [
    {
     "data": {
      "text/html": [
       "<div>\n",
       "<style scoped>\n",
       "    .dataframe tbody tr th:only-of-type {\n",
       "        vertical-align: middle;\n",
       "    }\n",
       "\n",
       "    .dataframe tbody tr th {\n",
       "        vertical-align: top;\n",
       "    }\n",
       "\n",
       "    .dataframe thead th {\n",
       "        text-align: right;\n",
       "    }\n",
       "</style>\n",
       "<table border=\"1\" class=\"dataframe\">\n",
       "  <thead>\n",
       "    <tr style=\"text-align: right;\">\n",
       "      <th></th>\n",
       "      <th>caseid</th>\n",
       "      <th>pregordr</th>\n",
       "      <th>howpreg_n</th>\n",
       "      <th>howpreg_p</th>\n",
       "      <th>moscurrp</th>\n",
       "      <th>nowprgdk</th>\n",
       "      <th>pregend1</th>\n",
       "      <th>pregend2</th>\n",
       "      <th>nbrnaliv</th>\n",
       "      <th>multbrth</th>\n",
       "      <th>...</th>\n",
       "      <th>laborfor_i</th>\n",
       "      <th>religion_i</th>\n",
       "      <th>metro_i</th>\n",
       "      <th>basewgt</th>\n",
       "      <th>adj_mod_basewgt</th>\n",
       "      <th>finalwgt</th>\n",
       "      <th>secu_p</th>\n",
       "      <th>sest</th>\n",
       "      <th>cmintvw</th>\n",
       "      <th>totalwgt_lb</th>\n",
       "    </tr>\n",
       "  </thead>\n",
       "  <tbody>\n",
       "    <tr>\n",
       "      <th>0</th>\n",
       "      <td>1</td>\n",
       "      <td>1</td>\n",
       "      <td>NaN</td>\n",
       "      <td>NaN</td>\n",
       "      <td>NaN</td>\n",
       "      <td>NaN</td>\n",
       "      <td>6.0</td>\n",
       "      <td>NaN</td>\n",
       "      <td>1.0</td>\n",
       "      <td>NaN</td>\n",
       "      <td>...</td>\n",
       "      <td>0</td>\n",
       "      <td>0</td>\n",
       "      <td>0</td>\n",
       "      <td>3410.389399</td>\n",
       "      <td>3869.349602</td>\n",
       "      <td>6448.271112</td>\n",
       "      <td>2</td>\n",
       "      <td>9</td>\n",
       "      <td>NaN</td>\n",
       "      <td>8.8125</td>\n",
       "    </tr>\n",
       "    <tr>\n",
       "      <th>1</th>\n",
       "      <td>1</td>\n",
       "      <td>2</td>\n",
       "      <td>NaN</td>\n",
       "      <td>NaN</td>\n",
       "      <td>NaN</td>\n",
       "      <td>NaN</td>\n",
       "      <td>6.0</td>\n",
       "      <td>NaN</td>\n",
       "      <td>1.0</td>\n",
       "      <td>NaN</td>\n",
       "      <td>...</td>\n",
       "      <td>0</td>\n",
       "      <td>0</td>\n",
       "      <td>0</td>\n",
       "      <td>3410.389399</td>\n",
       "      <td>3869.349602</td>\n",
       "      <td>6448.271112</td>\n",
       "      <td>2</td>\n",
       "      <td>9</td>\n",
       "      <td>NaN</td>\n",
       "      <td>7.8750</td>\n",
       "    </tr>\n",
       "    <tr>\n",
       "      <th>2</th>\n",
       "      <td>2</td>\n",
       "      <td>1</td>\n",
       "      <td>NaN</td>\n",
       "      <td>NaN</td>\n",
       "      <td>NaN</td>\n",
       "      <td>NaN</td>\n",
       "      <td>5.0</td>\n",
       "      <td>NaN</td>\n",
       "      <td>3.0</td>\n",
       "      <td>5.0</td>\n",
       "      <td>...</td>\n",
       "      <td>0</td>\n",
       "      <td>0</td>\n",
       "      <td>0</td>\n",
       "      <td>7226.301740</td>\n",
       "      <td>8567.549110</td>\n",
       "      <td>12999.542264</td>\n",
       "      <td>2</td>\n",
       "      <td>12</td>\n",
       "      <td>NaN</td>\n",
       "      <td>9.1250</td>\n",
       "    </tr>\n",
       "    <tr>\n",
       "      <th>3</th>\n",
       "      <td>2</td>\n",
       "      <td>2</td>\n",
       "      <td>NaN</td>\n",
       "      <td>NaN</td>\n",
       "      <td>NaN</td>\n",
       "      <td>NaN</td>\n",
       "      <td>6.0</td>\n",
       "      <td>NaN</td>\n",
       "      <td>1.0</td>\n",
       "      <td>NaN</td>\n",
       "      <td>...</td>\n",
       "      <td>0</td>\n",
       "      <td>0</td>\n",
       "      <td>0</td>\n",
       "      <td>7226.301740</td>\n",
       "      <td>8567.549110</td>\n",
       "      <td>12999.542264</td>\n",
       "      <td>2</td>\n",
       "      <td>12</td>\n",
       "      <td>NaN</td>\n",
       "      <td>7.0000</td>\n",
       "    </tr>\n",
       "    <tr>\n",
       "      <th>4</th>\n",
       "      <td>2</td>\n",
       "      <td>3</td>\n",
       "      <td>NaN</td>\n",
       "      <td>NaN</td>\n",
       "      <td>NaN</td>\n",
       "      <td>NaN</td>\n",
       "      <td>6.0</td>\n",
       "      <td>NaN</td>\n",
       "      <td>1.0</td>\n",
       "      <td>NaN</td>\n",
       "      <td>...</td>\n",
       "      <td>0</td>\n",
       "      <td>0</td>\n",
       "      <td>0</td>\n",
       "      <td>7226.301740</td>\n",
       "      <td>8567.549110</td>\n",
       "      <td>12999.542264</td>\n",
       "      <td>2</td>\n",
       "      <td>12</td>\n",
       "      <td>NaN</td>\n",
       "      <td>6.1875</td>\n",
       "    </tr>\n",
       "  </tbody>\n",
       "</table>\n",
       "<p>5 rows × 244 columns</p>\n",
       "</div>"
      ],
      "text/plain": [
       "   caseid  pregordr  howpreg_n  howpreg_p  moscurrp  nowprgdk  pregend1   \n",
       "0       1         1        NaN        NaN       NaN       NaN       6.0  \\\n",
       "1       1         2        NaN        NaN       NaN       NaN       6.0   \n",
       "2       2         1        NaN        NaN       NaN       NaN       5.0   \n",
       "3       2         2        NaN        NaN       NaN       NaN       6.0   \n",
       "4       2         3        NaN        NaN       NaN       NaN       6.0   \n",
       "\n",
       "   pregend2  nbrnaliv  multbrth  ...  laborfor_i  religion_i  metro_i   \n",
       "0       NaN       1.0       NaN  ...           0           0        0  \\\n",
       "1       NaN       1.0       NaN  ...           0           0        0   \n",
       "2       NaN       3.0       5.0  ...           0           0        0   \n",
       "3       NaN       1.0       NaN  ...           0           0        0   \n",
       "4       NaN       1.0       NaN  ...           0           0        0   \n",
       "\n",
       "       basewgt  adj_mod_basewgt      finalwgt  secu_p  sest  cmintvw   \n",
       "0  3410.389399      3869.349602   6448.271112       2     9      NaN  \\\n",
       "1  3410.389399      3869.349602   6448.271112       2     9      NaN   \n",
       "2  7226.301740      8567.549110  12999.542264       2    12      NaN   \n",
       "3  7226.301740      8567.549110  12999.542264       2    12      NaN   \n",
       "4  7226.301740      8567.549110  12999.542264       2    12      NaN   \n",
       "\n",
       "   totalwgt_lb  \n",
       "0       8.8125  \n",
       "1       7.8750  \n",
       "2       9.1250  \n",
       "3       7.0000  \n",
       "4       6.1875  \n",
       "\n",
       "[5 rows x 244 columns]"
      ]
     },
     "execution_count": 5,
     "metadata": {},
     "output_type": "execute_result"
    }
   ],
   "source": [
    "preg.head()"
   ]
  },
  {
   "cell_type": "markdown",
   "id": "6d5e0233-e4ce-42d1-a39e-d63639708bcc",
   "metadata": {},
   "source": [
    "#### Print the columns name"
   ]
  },
  {
   "cell_type": "code",
   "execution_count": 13,
   "id": "b4938e97-a501-4942-959d-d34245197858",
   "metadata": {},
   "outputs": [
    {
     "name": "stdout",
     "output_type": "stream",
     "text": [
      "caseid\n",
      "pregordr\n",
      "howpreg_n\n",
      "howpreg_p\n",
      "moscurrp\n",
      "nowprgdk\n",
      "pregend1\n",
      "pregend2\n",
      "nbrnaliv\n",
      "multbrth\n",
      "cmotpreg\n",
      "prgoutcome\n",
      "cmprgend\n",
      "flgdkmo1\n",
      "cmprgbeg\n",
      "ageatend\n",
      "hpageend\n",
      "gestasun_m\n",
      "gestasun_w\n",
      "wksgest\n",
      "mosgest\n",
      "dk1gest\n",
      "dk2gest\n",
      "dk3gest\n",
      "bpa_bdscheck1\n",
      "bpa_bdscheck2\n",
      "bpa_bdscheck3\n",
      "babysex\n",
      "birthwgt_lb\n",
      "birthwgt_oz\n",
      "lobthwgt\n",
      "babysex2\n",
      "birthwgt_lb2\n",
      "birthwgt_oz2\n",
      "lobthwgt2\n",
      "babysex3\n",
      "birthwgt_lb3\n",
      "birthwgt_oz3\n",
      "lobthwgt3\n",
      "cmbabdob\n",
      "kidage\n",
      "hpagelb\n",
      "birthplc\n",
      "paybirth1\n",
      "paybirth2\n",
      "paybirth3\n",
      "knewpreg\n",
      "trimestr\n",
      "ltrimest\n",
      "priorsmk\n",
      "postsmks\n",
      "npostsmk\n",
      "getprena\n",
      "bgnprena\n",
      "pnctrim\n",
      "lpnctri\n",
      "workpreg\n",
      "workborn\n",
      "didwork\n",
      "matweeks\n",
      "weeksdk\n",
      "matleave\n",
      "matchfound\n",
      "livehere\n",
      "alivenow\n",
      "cmkidied\n",
      "cmkidlft\n",
      "lastage\n",
      "wherenow\n",
      "legagree\n",
      "parenend\n",
      "anynurse\n",
      "fedsolid\n",
      "frsteatd_n\n",
      "frsteatd_p\n",
      "frsteatd\n",
      "quitnurs\n",
      "ageqtnur_n\n",
      "ageqtnur_p\n",
      "ageqtnur\n",
      "matchfound2\n",
      "livehere2\n",
      "alivenow2\n",
      "cmkidied2\n",
      "cmkidlft2\n",
      "lastage2\n",
      "wherenow2\n",
      "legagree2\n",
      "parenend2\n",
      "anynurse2\n",
      "fedsolid2\n",
      "frsteatd_n2\n",
      "frsteatd_p2\n",
      "frsteatd2\n",
      "quitnurs2\n",
      "ageqtnur_n2\n",
      "ageqtnur_p2\n",
      "ageqtnur2\n",
      "matchfound3\n",
      "livehere3\n",
      "alivenow3\n",
      "cmkidied3\n",
      "cmkidlft3\n",
      "lastage3\n",
      "wherenow3\n",
      "legagree3\n",
      "parenend3\n",
      "anynurse3\n",
      "fedsolid3\n",
      "frsteatd_n3\n",
      "frsteatd_p3\n",
      "frsteatd3\n",
      "quitnurs3\n",
      "ageqtnur_n3\n",
      "ageqtnur_p3\n",
      "ageqtnur3\n",
      "cmlastlb\n",
      "cmfstprg\n",
      "cmlstprg\n",
      "cmintstr\n",
      "cmintfin\n",
      "cmintstrop\n",
      "cmintfinop\n",
      "cmintstrcr\n",
      "cmintfincr\n",
      "evuseint\n",
      "stopduse\n",
      "whystopd\n",
      "whatmeth01\n",
      "whatmeth02\n",
      "whatmeth03\n",
      "whatmeth04\n",
      "resnouse\n",
      "wantbold\n",
      "probbabe\n",
      "cnfrmno\n",
      "wantbld2\n",
      "timingok\n",
      "toosoon_n\n",
      "toosoon_p\n",
      "wthpart1\n",
      "wthpart2\n",
      "feelinpg\n",
      "hpwnold\n",
      "timokhp\n",
      "cohpbeg\n",
      "cohpend\n",
      "tellfath\n",
      "whentell\n",
      "tryscale\n",
      "wantscal\n",
      "whyprg1\n",
      "whyprg2\n",
      "whynouse1\n",
      "whynouse2\n",
      "whynouse3\n",
      "anyusint\n",
      "prglngth\n",
      "outcome\n",
      "birthord\n",
      "datend\n",
      "agepreg\n",
      "datecon\n",
      "agecon\n",
      "fmarout5\n",
      "pmarpreg\n",
      "rmarout6\n",
      "fmarcon5\n",
      "learnprg\n",
      "pncarewk\n",
      "paydeliv\n",
      "lbw1\n",
      "bfeedwks\n",
      "maternlv\n",
      "oldwantr\n",
      "oldwantp\n",
      "wantresp\n",
      "wantpart\n",
      "cmbirth\n",
      "ager\n",
      "agescrn\n",
      "fmarital\n",
      "rmarital\n",
      "educat\n",
      "hieduc\n",
      "race\n",
      "hispanic\n",
      "hisprace\n",
      "rcurpreg\n",
      "pregnum\n",
      "parity\n",
      "insuranc\n",
      "pubassis\n",
      "poverty\n",
      "laborfor\n",
      "religion\n",
      "metro\n",
      "brnout\n",
      "yrstrus\n",
      "prglngth_i\n",
      "outcome_i\n",
      "birthord_i\n",
      "datend_i\n",
      "agepreg_i\n",
      "datecon_i\n",
      "agecon_i\n",
      "fmarout5_i\n",
      "pmarpreg_i\n",
      "rmarout6_i\n",
      "fmarcon5_i\n",
      "learnprg_i\n",
      "pncarewk_i\n",
      "paydeliv_i\n",
      "lbw1_i\n",
      "bfeedwks_i\n",
      "maternlv_i\n",
      "oldwantr_i\n",
      "oldwantp_i\n",
      "wantresp_i\n",
      "wantpart_i\n",
      "ager_i\n",
      "fmarital_i\n",
      "rmarital_i\n",
      "educat_i\n",
      "hieduc_i\n",
      "race_i\n",
      "hispanic_i\n",
      "hisprace_i\n",
      "rcurpreg_i\n",
      "pregnum_i\n",
      "parity_i\n",
      "insuranc_i\n",
      "pubassis_i\n",
      "poverty_i\n",
      "laborfor_i\n",
      "religion_i\n",
      "metro_i\n",
      "basewgt\n",
      "adj_mod_basewgt\n",
      "finalwgt\n",
      "secu_p\n",
      "sest\n",
      "cmintvw\n",
      "totalwgt_lb\n"
     ]
    }
   ],
   "source": [
    "for i in preg.columns:\n",
    "    print(i)"
   ]
  },
  {
   "cell_type": "markdown",
   "id": "7d218b44-5e81-40b5-b5ee-7ad3e1bb7313",
   "metadata": {},
   "source": [
    "#### Print How many column we have "
   ]
  },
  {
   "cell_type": "code",
   "execution_count": 13,
   "id": "4124ab41-a6a6-4f2d-be6d-a56df2fa12c7",
   "metadata": {},
   "outputs": [
    {
     "data": {
      "text/plain": [
       "244"
      ]
     },
     "execution_count": 13,
     "metadata": {},
     "output_type": "execute_result"
    }
   ],
   "source": [
    "len(preg.columns)"
   ]
  },
  {
   "cell_type": "markdown",
   "id": "a1094f71-38f7-418d-aec7-c1e8e63be7d8",
   "metadata": {},
   "source": [
    "#### Select a single column name."
   ]
  },
  {
   "cell_type": "code",
   "execution_count": 14,
   "id": "3b5e1d03-0bba-46c3-ae9d-d975af297d19",
   "metadata": {},
   "outputs": [
    {
     "data": {
      "text/plain": [
       "'caseid'"
      ]
     },
     "execution_count": 14,
     "metadata": {},
     "output_type": "execute_result"
    }
   ],
   "source": [
    "preg.columns[0]"
   ]
  },
  {
   "cell_type": "code",
   "execution_count": 15,
   "id": "7fe999f4-6051-4936-b423-adba39720a64",
   "metadata": {},
   "outputs": [
    {
     "data": {
      "text/plain": [
       "'pregordr'"
      ]
     },
     "execution_count": 15,
     "metadata": {},
     "output_type": "execute_result"
    }
   ],
   "source": [
    "preg.columns[1]"
   ]
  },
  {
   "cell_type": "markdown",
   "id": "99e9781b-f867-4766-8f8e-c328ac0a774d",
   "metadata": {},
   "source": [
    "#### Select a column and check what type it is "
   ]
  },
  {
   "cell_type": "code",
   "execution_count": 16,
   "id": "46fce855-1720-4ff7-8431-6ff3ca66f28c",
   "metadata": {},
   "outputs": [],
   "source": [
    "pregordr = preg['pregordr']"
   ]
  },
  {
   "cell_type": "code",
   "execution_count": 17,
   "id": "bc473739-a8d1-4703-8d07-123ba6ef62a4",
   "metadata": {},
   "outputs": [
    {
     "data": {
      "text/plain": [
       "pandas.core.series.Series"
      ]
     },
     "execution_count": 17,
     "metadata": {},
     "output_type": "execute_result"
    }
   ],
   "source": [
    "type(pregordr)"
   ]
  },
  {
   "cell_type": "code",
   "execution_count": 20,
   "id": "179a3553-6e15-4207-98fc-7c9f3dac710d",
   "metadata": {},
   "outputs": [
    {
     "data": {
      "text/plain": [
       "pandas.core.series.Series"
      ]
     },
     "execution_count": 20,
     "metadata": {},
     "output_type": "execute_result"
    }
   ],
   "source": [
    "pregend1 = preg['pregend1']\n",
    "type(pregend1)"
   ]
  },
  {
   "cell_type": "markdown",
   "id": "c478e402-8590-4c6c-a131-888d7f907bec",
   "metadata": {},
   "source": [
    "#### Print a column "
   ]
  },
  {
   "cell_type": "code",
   "execution_count": 21,
   "id": "25c3681f-a95e-47b5-a8ec-bd78e18a7521",
   "metadata": {},
   "outputs": [
    {
     "data": {
      "text/plain": [
       "0        1\n",
       "1        2\n",
       "2        1\n",
       "3        2\n",
       "4        3\n",
       "        ..\n",
       "13588    1\n",
       "13589    2\n",
       "13590    3\n",
       "13591    4\n",
       "13592    5\n",
       "Name: pregordr, Length: 13593, dtype: int64"
      ]
     },
     "execution_count": 21,
     "metadata": {},
     "output_type": "execute_result"
    }
   ],
   "source": [
    "pregordr"
   ]
  },
  {
   "cell_type": "code",
   "execution_count": 22,
   "id": "8c452081-655d-4b18-bc08-72b2f7635d32",
   "metadata": {},
   "outputs": [
    {
     "data": {
      "text/plain": [
       "0        6.0\n",
       "1        6.0\n",
       "2        5.0\n",
       "3        6.0\n",
       "4        6.0\n",
       "        ... \n",
       "13588    6.0\n",
       "13589    3.0\n",
       "13590    3.0\n",
       "13591    6.0\n",
       "13592    6.0\n",
       "Name: pregend1, Length: 13593, dtype: float64"
      ]
     },
     "execution_count": 22,
     "metadata": {},
     "output_type": "execute_result"
    }
   ],
   "source": [
    "pregend1"
   ]
  },
  {
   "cell_type": "markdown",
   "id": "96b6a93e-4d10-4335-b7be-b5b21fc17b19",
   "metadata": {},
   "source": [
    "#### Select a single element from a column "
   ]
  },
  {
   "cell_type": "code",
   "execution_count": 23,
   "id": "3be56c0a-283a-4c42-bcc7-3c160899a0f5",
   "metadata": {},
   "outputs": [
    {
     "data": {
      "text/plain": [
       "6.0"
      ]
     },
     "execution_count": 23,
     "metadata": {},
     "output_type": "execute_result"
    }
   ],
   "source": [
    "pregend1[0]"
   ]
  },
  {
   "cell_type": "code",
   "execution_count": 24,
   "id": "6b309c25-e0d9-4626-8679-6665c99f0c47",
   "metadata": {},
   "outputs": [
    {
     "data": {
      "text/plain": [
       "6.0"
      ]
     },
     "execution_count": 24,
     "metadata": {},
     "output_type": "execute_result"
    }
   ],
   "source": [
    "pregend1[4]"
   ]
  },
  {
   "cell_type": "code",
   "execution_count": 25,
   "id": "509d6a76-4145-4a7e-b9b8-cf13d5eadc88",
   "metadata": {},
   "outputs": [
    {
     "data": {
      "text/plain": [
       "1"
      ]
     },
     "execution_count": 25,
     "metadata": {},
     "output_type": "execute_result"
    }
   ],
   "source": [
    "pregordr[2]"
   ]
  },
  {
   "cell_type": "code",
   "execution_count": 26,
   "id": "f8e3536c-1cfb-437c-bbd3-20d8bbf33596",
   "metadata": {},
   "outputs": [
    {
     "data": {
      "text/plain": [
       "2"
      ]
     },
     "execution_count": 26,
     "metadata": {},
     "output_type": "execute_result"
    }
   ],
   "source": [
    "pregordr[3]"
   ]
  },
  {
   "cell_type": "markdown",
   "id": "56540039-21ef-497a-b8ba-697010086d0a",
   "metadata": {},
   "source": [
    "#### Select a slice from a column "
   ]
  },
  {
   "cell_type": "code",
   "execution_count": 27,
   "id": "bfb85d35-912e-46b7-8aca-6682bffbc271",
   "metadata": {},
   "outputs": [
    {
     "data": {
      "text/plain": [
       "2    1\n",
       "3    2\n",
       "4    3\n",
       "Name: pregordr, dtype: int64"
      ]
     },
     "execution_count": 27,
     "metadata": {},
     "output_type": "execute_result"
    }
   ],
   "source": [
    "pregordr[2:5]"
   ]
  },
  {
   "cell_type": "code",
   "execution_count": 28,
   "id": "c4a66b6a-b5d2-4e1a-92b1-a37c1358b718",
   "metadata": {},
   "outputs": [
    {
     "data": {
      "text/plain": [
       "0    6.0\n",
       "2    5.0\n",
       "4    6.0\n",
       "Name: pregend1, dtype: float64"
      ]
     },
     "execution_count": 28,
     "metadata": {},
     "output_type": "execute_result"
    }
   ],
   "source": [
    "pregend1[0:5:2]"
   ]
  },
  {
   "cell_type": "markdown",
   "id": "7959569a-2211-4f5c-942e-29b0a2355e65",
   "metadata": {},
   "source": [
    "#### Select a column using dot notation."
   ]
  },
  {
   "cell_type": "code",
   "execution_count": 29,
   "id": "b42d35dc-b9c7-4260-ad2f-e409e7c5f560",
   "metadata": {},
   "outputs": [],
   "source": [
    "pregordr = preg.pregordr"
   ]
  },
  {
   "cell_type": "code",
   "execution_count": 30,
   "id": "876fc8eb-fa80-4580-be26-69206671571c",
   "metadata": {},
   "outputs": [
    {
     "data": {
      "text/plain": [
       "0        1\n",
       "1        2\n",
       "2        1\n",
       "3        2\n",
       "4        3\n",
       "        ..\n",
       "13588    1\n",
       "13589    2\n",
       "13590    3\n",
       "13591    4\n",
       "13592    5\n",
       "Name: pregordr, Length: 13593, dtype: int64"
      ]
     },
     "execution_count": 30,
     "metadata": {},
     "output_type": "execute_result"
    }
   ],
   "source": [
    "pregordr"
   ]
  },
  {
   "cell_type": "code",
   "execution_count": 31,
   "id": "600add86-e051-4658-a728-357f883b6969",
   "metadata": {},
   "outputs": [],
   "source": [
    "pregend1 = preg.pregend1"
   ]
  },
  {
   "cell_type": "code",
   "execution_count": 32,
   "id": "a23de2cd-82ca-477f-b651-b81d93f4534c",
   "metadata": {},
   "outputs": [
    {
     "data": {
      "text/plain": [
       "0        6.0\n",
       "1        6.0\n",
       "2        5.0\n",
       "3        6.0\n",
       "4        6.0\n",
       "        ... \n",
       "13588    6.0\n",
       "13589    3.0\n",
       "13590    3.0\n",
       "13591    6.0\n",
       "13592    6.0\n",
       "Name: pregend1, Length: 13593, dtype: float64"
      ]
     },
     "execution_count": 32,
     "metadata": {},
     "output_type": "execute_result"
    }
   ],
   "source": [
    "pregend1"
   ]
  },
  {
   "cell_type": "markdown",
   "id": "d591d688-7d20-4c34-aa09-932bbf456184",
   "metadata": {},
   "source": [
    "#### Count the number of times each value occurs."
   ]
  },
  {
   "cell_type": "code",
   "execution_count": 34,
   "id": "cd0d3bb8-e89c-45d6-96d6-5d53b00e1965",
   "metadata": {},
   "outputs": [
    {
     "data": {
      "text/plain": [
       "outcome\n",
       "1    9148\n",
       "2    1862\n",
       "3     120\n",
       "4    1921\n",
       "5     190\n",
       "6     352\n",
       "Name: count, dtype: int64"
      ]
     },
     "execution_count": 34,
     "metadata": {},
     "output_type": "execute_result"
    }
   ],
   "source": [
    "preg.outcome.value_counts().sort_index()"
   ]
  },
  {
   "cell_type": "code",
   "execution_count": 35,
   "id": "0d56e62e-443e-40a5-9761-c70fa30e515b",
   "metadata": {},
   "outputs": [
    {
     "data": {
      "text/plain": [
       "pregend1\n",
       "6.0    7129\n",
       "5.0    2015\n",
       "1.0    1921\n",
       "3.0    1831\n",
       "4.0     187\n",
       "2.0     120\n",
       "8.0      20\n",
       "9.0      18\n",
       "Name: count, dtype: int64"
      ]
     },
     "execution_count": 35,
     "metadata": {},
     "output_type": "execute_result"
    }
   ],
   "source": [
    "preg.pregend1.value_counts()"
   ]
  },
  {
   "cell_type": "markdown",
   "id": "f7894589-55e0-46d9-b311-efc2b07e494e",
   "metadata": {},
   "source": [
    "#### Check the values of another variable"
   ]
  },
  {
   "cell_type": "code",
   "execution_count": 36,
   "id": "9d2a5938-6b66-4d5b-986d-7436ad540207",
   "metadata": {},
   "outputs": [
    {
     "data": {
      "text/plain": [
       "birthwgt_lb\n",
       "0.0        8\n",
       "1.0       40\n",
       "2.0       53\n",
       "3.0       98\n",
       "4.0      229\n",
       "5.0      697\n",
       "6.0     2223\n",
       "7.0     3049\n",
       "8.0     1889\n",
       "9.0      623\n",
       "10.0     132\n",
       "11.0      26\n",
       "12.0      10\n",
       "13.0       3\n",
       "14.0       3\n",
       "15.0       1\n",
       "Name: count, dtype: int64"
      ]
     },
     "execution_count": 36,
     "metadata": {},
     "output_type": "execute_result"
    }
   ],
   "source": [
    "preg.birthwgt_lb.value_counts().sort_index()"
   ]
  },
  {
   "cell_type": "markdown",
   "id": "bad6977a-7a80-456f-8952-e8e3079547f4",
   "metadata": {},
   "source": [
    "Make a dictionary that maps from each respondent's caseid to a list of indices into the pregnancy DataFrame. Use it to select the pregnancy outcome for a single respondent."
   ]
  },
  {
   "cell_type": "code",
   "execution_count": 37,
   "id": "309ab8e0-262d-49e8-ab13-ba758d72e651",
   "metadata": {},
   "outputs": [
    {
     "data": {
      "text/plain": [
       "array([4, 4, 4, 4, 4, 4, 1])"
      ]
     },
     "execution_count": 37,
     "metadata": {},
     "output_type": "execute_result"
    }
   ],
   "source": [
    "caseid = 10229\n",
    "preg_map = nsfg.MakePregMap(preg)\n",
    "indices = preg_map[caseid]\n",
    "preg.outcome[indices].values"
   ]
  },
  {
   "cell_type": "markdown",
   "id": "1229a75a-fd77-496a-8e76-9d027be477f5",
   "metadata": {},
   "source": [
    "# Exercies"
   ]
  },
  {
   "cell_type": "markdown",
   "id": "42a694dc-c5f0-4729-bedb-da58f3994046",
   "metadata": {},
   "source": [
    "select the birthord column, print the value counts, and compare to results "
   ]
  },
  {
   "cell_type": "code",
   "execution_count": 38,
   "id": "5ceabdc1-6394-4331-8daf-88ba9440587a",
   "metadata": {},
   "outputs": [
    {
     "data": {
      "text/plain": [
       "birthord\n",
       "10.0       1\n",
       "9.0        2\n",
       "8.0        7\n",
       "7.0       20\n",
       "6.0       50\n",
       "5.0      126\n",
       "4.0      421\n",
       "3.0     1234\n",
       "2.0     2874\n",
       "1.0     4413\n",
       "Name: count, dtype: int64"
      ]
     },
     "execution_count": 38,
     "metadata": {},
     "output_type": "execute_result"
    }
   ],
   "source": [
    "preg.birthord.value_counts().sort_values()"
   ]
  },
  {
   "cell_type": "code",
   "execution_count": 39,
   "id": "65612893-1164-4d99-8484-1d42339d9bd3",
   "metadata": {},
   "outputs": [
    {
     "data": {
      "text/plain": [
       "birthord\n",
       "10.0       1\n",
       "9.0        2\n",
       "8.0        7\n",
       "7.0       20\n",
       "6.0       50\n",
       "5.0      126\n",
       "4.0      421\n",
       "3.0     1234\n",
       "2.0     2874\n",
       "1.0     4413\n",
       "Name: count, dtype: int64"
      ]
     },
     "execution_count": 39,
     "metadata": {},
     "output_type": "execute_result"
    }
   ],
   "source": [
    "preg['birthord'].value_counts().sort_values()"
   ]
  },
  {
   "cell_type": "markdown",
   "id": "0ca88541-7703-403b-b775-10858e5edef0",
   "metadata": {},
   "source": [
    "We can also use isnull to count the number of nans."
   ]
  },
  {
   "cell_type": "code",
   "execution_count": 40,
   "id": "331fe5f1-4bea-41e8-8a8e-7ce87e494f77",
   "metadata": {},
   "outputs": [
    {
     "data": {
      "text/plain": [
       "4445"
      ]
     },
     "execution_count": 40,
     "metadata": {},
     "output_type": "execute_result"
    }
   ],
   "source": [
    "preg.birthord.isnull().sum()"
   ]
  },
  {
   "cell_type": "code",
   "execution_count": 41,
   "id": "8dee27ae-3d28-4b62-b532-8c1d67bc2c18",
   "metadata": {},
   "outputs": [
    {
     "data": {
      "text/plain": [
       "4445"
      ]
     },
     "execution_count": 41,
     "metadata": {},
     "output_type": "execute_result"
    }
   ],
   "source": [
    "preg['birthord'].isnull().sum()"
   ]
  },
  {
   "cell_type": "markdown",
   "id": "179afd81-875c-403c-8b9f-860bfcc02570",
   "metadata": {},
   "source": [
    "Select the prglngth column, print the value counts, and compare to results published in teh codebook"
   ]
  },
  {
   "cell_type": "code",
   "execution_count": 42,
   "id": "eefca67a-0ac0-4ebb-ad3f-fccb39327f5f",
   "metadata": {},
   "outputs": [
    {
     "data": {
      "text/plain": [
       "prglngth\n",
       "46       1\n",
       "47       1\n",
       "50       2\n",
       "48       7\n",
       "27       8\n",
       "1        9\n",
       "45      10\n",
       "23      12\n",
       "25      15\n",
       "0       15\n",
       "18      17\n",
       "20      18\n",
       "29      23\n",
       "31      29\n",
       "14      29\n",
       "24      31\n",
       "19      34\n",
       "21      37\n",
       "28      38\n",
       "15      39\n",
       "16      44\n",
       "44      46\n",
       "33      50\n",
       "34      60\n",
       "2       78\n",
       "26     117\n",
       "32     122\n",
       "10     137\n",
       "22     147\n",
       "43     148\n",
       "3      151\n",
       "12     170\n",
       "7      175\n",
       "5      181\n",
       "30     198\n",
       "11     202\n",
       "17     253\n",
       "42     328\n",
       "36     329\n",
       "35     357\n",
       "8      409\n",
       "4      412\n",
       "13     446\n",
       "37     457\n",
       "6      543\n",
       "41     591\n",
       "9      594\n",
       "38     609\n",
       "40    1120\n",
       "39    4744\n",
       "Name: count, dtype: int64"
      ]
     },
     "execution_count": 42,
     "metadata": {},
     "output_type": "execute_result"
    }
   ],
   "source": [
    "preg.prglngth.value_counts().sort_values()"
   ]
  },
  {
   "cell_type": "code",
   "execution_count": 43,
   "id": "2b4f8d77-c375-47bc-91a6-84a61c5b7971",
   "metadata": {},
   "outputs": [
    {
     "data": {
      "text/plain": [
       "prglngth\n",
       "46       1\n",
       "47       1\n",
       "50       2\n",
       "48       7\n",
       "27       8\n",
       "1        9\n",
       "45      10\n",
       "23      12\n",
       "25      15\n",
       "0       15\n",
       "18      17\n",
       "20      18\n",
       "29      23\n",
       "31      29\n",
       "14      29\n",
       "24      31\n",
       "19      34\n",
       "21      37\n",
       "28      38\n",
       "15      39\n",
       "16      44\n",
       "44      46\n",
       "33      50\n",
       "34      60\n",
       "2       78\n",
       "26     117\n",
       "32     122\n",
       "10     137\n",
       "22     147\n",
       "43     148\n",
       "3      151\n",
       "12     170\n",
       "7      175\n",
       "5      181\n",
       "30     198\n",
       "11     202\n",
       "17     253\n",
       "42     328\n",
       "36     329\n",
       "35     357\n",
       "8      409\n",
       "4      412\n",
       "13     446\n",
       "37     457\n",
       "6      543\n",
       "41     591\n",
       "9      594\n",
       "38     609\n",
       "40    1120\n",
       "39    4744\n",
       "Name: count, dtype: int64"
      ]
     },
     "execution_count": 43,
     "metadata": {},
     "output_type": "execute_result"
    }
   ],
   "source": [
    "preg['prglngth'].value_counts().sort_values()"
   ]
  },
  {
   "cell_type": "markdown",
   "id": "652c38a7-0623-4c94-a6ae-57fcc56222c5",
   "metadata": {},
   "source": [
    "To compute the mean of a column, you can invoke the mean method on a Series. For example, here is the mean birthweight in pounds:"
   ]
  },
  {
   "cell_type": "code",
   "execution_count": 6,
   "id": "830a7afa-9c31-4dfb-8d09-071a50a20649",
   "metadata": {},
   "outputs": [
    {
     "data": {
      "text/plain": [
       "7.265628457623368"
      ]
     },
     "execution_count": 6,
     "metadata": {},
     "output_type": "execute_result"
    }
   ],
   "source": [
    "preg.totalwgt_lb.mean()"
   ]
  },
  {
   "cell_type": "markdown",
   "id": "a1825516-f188-4182-81fe-6a4edb1e294d",
   "metadata": {},
   "source": [
    "Create a new column named totalwgt_kg that contains birth weight in kilograms. Compute its mean. Remember that you when you create a new column, you have to use dictionary syntax, not dot notation."
   ]
  },
  {
   "cell_type": "code",
   "execution_count": 12,
   "id": "36625591-fbbc-4aba-9471-ecd4e678da1f",
   "metadata": {},
   "outputs": [
    {
     "data": {
      "text/plain": [
       "pandas.core.frame.DataFrame"
      ]
     },
     "execution_count": 12,
     "metadata": {},
     "output_type": "execute_result"
    }
   ],
   "source": [
    "type(preg)"
   ]
  },
  {
   "cell_type": "code",
   "execution_count": 14,
   "id": "f9eefcc5-00ef-4f60-b933-b1af9d623f0f",
   "metadata": {},
   "outputs": [
    {
     "data": {
      "text/plain": [
       "array([ 8.,  7.,  9.,  6.,  4., nan,  5., 10., 12., 14.,  3.,  1., 11.,\n",
       "        2., 13.,  0., 15.])"
      ]
     },
     "execution_count": 14,
     "metadata": {},
     "output_type": "execute_result"
    }
   ],
   "source": [
    "preg['birthwgt_lb'].unique()"
   ]
  },
  {
   "cell_type": "code",
   "execution_count": 15,
   "id": "02931eb2-48f9-4bf6-aa2b-c1a0bf122692",
   "metadata": {},
   "outputs": [
    {
     "data": {
      "text/plain": [
       "array([nan,  0.,  7.,  5.,  4., 11.,  3., 13., 12.,  8.,  2.,  6., 14.,\n",
       "       15., 10.,  1.,  9., 99.])"
      ]
     },
     "execution_count": 15,
     "metadata": {},
     "output_type": "execute_result"
    }
   ],
   "source": [
    "preg['birthwgt_oz2'].unique()"
   ]
  },
  {
   "cell_type": "code",
   "execution_count": 16,
   "id": "eb7fed44-cd37-4e0f-a4b3-7f3288d8a91e",
   "metadata": {},
   "outputs": [],
   "source": [
    "preg['totalwgt_kg'] = preg.birthwgt_oz2.mean()"
   ]
  },
  {
   "cell_type": "code",
   "execution_count": 17,
   "id": "a9198b25-94fa-424e-8d89-2d7ce2298e6b",
   "metadata": {},
   "outputs": [
    {
     "data": {
      "text/html": [
       "<div>\n",
       "<style scoped>\n",
       "    .dataframe tbody tr th:only-of-type {\n",
       "        vertical-align: middle;\n",
       "    }\n",
       "\n",
       "    .dataframe tbody tr th {\n",
       "        vertical-align: top;\n",
       "    }\n",
       "\n",
       "    .dataframe thead th {\n",
       "        text-align: right;\n",
       "    }\n",
       "</style>\n",
       "<table border=\"1\" class=\"dataframe\">\n",
       "  <thead>\n",
       "    <tr style=\"text-align: right;\">\n",
       "      <th></th>\n",
       "      <th>caseid</th>\n",
       "      <th>pregordr</th>\n",
       "      <th>howpreg_n</th>\n",
       "      <th>howpreg_p</th>\n",
       "      <th>moscurrp</th>\n",
       "      <th>nowprgdk</th>\n",
       "      <th>pregend1</th>\n",
       "      <th>pregend2</th>\n",
       "      <th>nbrnaliv</th>\n",
       "      <th>multbrth</th>\n",
       "      <th>...</th>\n",
       "      <th>religion_i</th>\n",
       "      <th>metro_i</th>\n",
       "      <th>basewgt</th>\n",
       "      <th>adj_mod_basewgt</th>\n",
       "      <th>finalwgt</th>\n",
       "      <th>secu_p</th>\n",
       "      <th>sest</th>\n",
       "      <th>cmintvw</th>\n",
       "      <th>totalwgt_lb</th>\n",
       "      <th>totalwgt_kg</th>\n",
       "    </tr>\n",
       "  </thead>\n",
       "  <tbody>\n",
       "    <tr>\n",
       "      <th>0</th>\n",
       "      <td>1</td>\n",
       "      <td>1</td>\n",
       "      <td>NaN</td>\n",
       "      <td>NaN</td>\n",
       "      <td>NaN</td>\n",
       "      <td>NaN</td>\n",
       "      <td>6.0</td>\n",
       "      <td>NaN</td>\n",
       "      <td>1.0</td>\n",
       "      <td>NaN</td>\n",
       "      <td>...</td>\n",
       "      <td>0</td>\n",
       "      <td>0</td>\n",
       "      <td>3410.389399</td>\n",
       "      <td>3869.349602</td>\n",
       "      <td>6448.271112</td>\n",
       "      <td>2</td>\n",
       "      <td>9</td>\n",
       "      <td>NaN</td>\n",
       "      <td>8.8125</td>\n",
       "      <td>6.861635</td>\n",
       "    </tr>\n",
       "    <tr>\n",
       "      <th>1</th>\n",
       "      <td>1</td>\n",
       "      <td>2</td>\n",
       "      <td>NaN</td>\n",
       "      <td>NaN</td>\n",
       "      <td>NaN</td>\n",
       "      <td>NaN</td>\n",
       "      <td>6.0</td>\n",
       "      <td>NaN</td>\n",
       "      <td>1.0</td>\n",
       "      <td>NaN</td>\n",
       "      <td>...</td>\n",
       "      <td>0</td>\n",
       "      <td>0</td>\n",
       "      <td>3410.389399</td>\n",
       "      <td>3869.349602</td>\n",
       "      <td>6448.271112</td>\n",
       "      <td>2</td>\n",
       "      <td>9</td>\n",
       "      <td>NaN</td>\n",
       "      <td>7.8750</td>\n",
       "      <td>6.861635</td>\n",
       "    </tr>\n",
       "    <tr>\n",
       "      <th>2</th>\n",
       "      <td>2</td>\n",
       "      <td>1</td>\n",
       "      <td>NaN</td>\n",
       "      <td>NaN</td>\n",
       "      <td>NaN</td>\n",
       "      <td>NaN</td>\n",
       "      <td>5.0</td>\n",
       "      <td>NaN</td>\n",
       "      <td>3.0</td>\n",
       "      <td>5.0</td>\n",
       "      <td>...</td>\n",
       "      <td>0</td>\n",
       "      <td>0</td>\n",
       "      <td>7226.301740</td>\n",
       "      <td>8567.549110</td>\n",
       "      <td>12999.542264</td>\n",
       "      <td>2</td>\n",
       "      <td>12</td>\n",
       "      <td>NaN</td>\n",
       "      <td>9.1250</td>\n",
       "      <td>6.861635</td>\n",
       "    </tr>\n",
       "    <tr>\n",
       "      <th>3</th>\n",
       "      <td>2</td>\n",
       "      <td>2</td>\n",
       "      <td>NaN</td>\n",
       "      <td>NaN</td>\n",
       "      <td>NaN</td>\n",
       "      <td>NaN</td>\n",
       "      <td>6.0</td>\n",
       "      <td>NaN</td>\n",
       "      <td>1.0</td>\n",
       "      <td>NaN</td>\n",
       "      <td>...</td>\n",
       "      <td>0</td>\n",
       "      <td>0</td>\n",
       "      <td>7226.301740</td>\n",
       "      <td>8567.549110</td>\n",
       "      <td>12999.542264</td>\n",
       "      <td>2</td>\n",
       "      <td>12</td>\n",
       "      <td>NaN</td>\n",
       "      <td>7.0000</td>\n",
       "      <td>6.861635</td>\n",
       "    </tr>\n",
       "    <tr>\n",
       "      <th>4</th>\n",
       "      <td>2</td>\n",
       "      <td>3</td>\n",
       "      <td>NaN</td>\n",
       "      <td>NaN</td>\n",
       "      <td>NaN</td>\n",
       "      <td>NaN</td>\n",
       "      <td>6.0</td>\n",
       "      <td>NaN</td>\n",
       "      <td>1.0</td>\n",
       "      <td>NaN</td>\n",
       "      <td>...</td>\n",
       "      <td>0</td>\n",
       "      <td>0</td>\n",
       "      <td>7226.301740</td>\n",
       "      <td>8567.549110</td>\n",
       "      <td>12999.542264</td>\n",
       "      <td>2</td>\n",
       "      <td>12</td>\n",
       "      <td>NaN</td>\n",
       "      <td>6.1875</td>\n",
       "      <td>6.861635</td>\n",
       "    </tr>\n",
       "  </tbody>\n",
       "</table>\n",
       "<p>5 rows × 245 columns</p>\n",
       "</div>"
      ],
      "text/plain": [
       "   caseid  pregordr  howpreg_n  howpreg_p  moscurrp  nowprgdk  pregend1   \n",
       "0       1         1        NaN        NaN       NaN       NaN       6.0  \\\n",
       "1       1         2        NaN        NaN       NaN       NaN       6.0   \n",
       "2       2         1        NaN        NaN       NaN       NaN       5.0   \n",
       "3       2         2        NaN        NaN       NaN       NaN       6.0   \n",
       "4       2         3        NaN        NaN       NaN       NaN       6.0   \n",
       "\n",
       "   pregend2  nbrnaliv  multbrth  ...  religion_i  metro_i      basewgt   \n",
       "0       NaN       1.0       NaN  ...           0        0  3410.389399  \\\n",
       "1       NaN       1.0       NaN  ...           0        0  3410.389399   \n",
       "2       NaN       3.0       5.0  ...           0        0  7226.301740   \n",
       "3       NaN       1.0       NaN  ...           0        0  7226.301740   \n",
       "4       NaN       1.0       NaN  ...           0        0  7226.301740   \n",
       "\n",
       "   adj_mod_basewgt      finalwgt  secu_p  sest  cmintvw  totalwgt_lb   \n",
       "0      3869.349602   6448.271112       2     9      NaN       8.8125  \\\n",
       "1      3869.349602   6448.271112       2     9      NaN       7.8750   \n",
       "2      8567.549110  12999.542264       2    12      NaN       9.1250   \n",
       "3      8567.549110  12999.542264       2    12      NaN       7.0000   \n",
       "4      8567.549110  12999.542264       2    12      NaN       6.1875   \n",
       "\n",
       "   totalwgt_kg  \n",
       "0     6.861635  \n",
       "1     6.861635  \n",
       "2     6.861635  \n",
       "3     6.861635  \n",
       "4     6.861635  \n",
       "\n",
       "[5 rows x 245 columns]"
      ]
     },
     "execution_count": 17,
     "metadata": {},
     "output_type": "execute_result"
    }
   ],
   "source": [
    "preg.head()"
   ]
  },
  {
   "cell_type": "markdown",
   "id": "cebf57aa-a70c-4f60-9e7a-0f8b08723156",
   "metadata": {},
   "source": [
    "Earlier it was 244 columns now it is 245 columns"
   ]
  },
  {
   "cell_type": "markdown",
   "id": "1d0bb6ae-e488-4869-9c53-0ca3331b42af",
   "metadata": {},
   "source": [
    "nsfg.py also provides ReadFemResp, which reads the female respondents file and returns a DataFrame:"
   ]
  },
  {
   "cell_type": "code",
   "execution_count": 18,
   "id": "71e2fb2d-6ef3-4c6b-b67b-05a48ff3db1b",
   "metadata": {},
   "outputs": [
    {
     "name": "stdout",
     "output_type": "stream",
     "text": [
      "Downloaded2002FemResp.dct\n",
      "Downloaded2002FemResp.dat.gz\n"
     ]
    }
   ],
   "source": [
    "download(\"https://github.com/AllenDowney/ThinkStats2/raw/master/code/2002FemResp.dct\")\n",
    "download(\"https://github.com/AllenDowney/ThinkStats2/raw/master/code/2002FemResp.dat.gz\")"
   ]
  },
  {
   "cell_type": "code",
   "execution_count": 19,
   "id": "4cd449d6-92a7-441c-ba91-3d8ff15c6a2d",
   "metadata": {},
   "outputs": [],
   "source": [
    "resp = nsfg.ReadFemResp()"
   ]
  },
  {
   "cell_type": "markdown",
   "id": "cb46482d-2d5b-4561-af48-2229a0568ca2",
   "metadata": {},
   "source": [
    "DataFrame provides a method head that display the first five rows:"
   ]
  },
  {
   "cell_type": "code",
   "execution_count": 20,
   "id": "58b495aa-6afb-4e09-8c47-9517fe4e6c07",
   "metadata": {},
   "outputs": [
    {
     "data": {
      "text/html": [
       "<div>\n",
       "<style scoped>\n",
       "    .dataframe tbody tr th:only-of-type {\n",
       "        vertical-align: middle;\n",
       "    }\n",
       "\n",
       "    .dataframe tbody tr th {\n",
       "        vertical-align: top;\n",
       "    }\n",
       "\n",
       "    .dataframe thead th {\n",
       "        text-align: right;\n",
       "    }\n",
       "</style>\n",
       "<table border=\"1\" class=\"dataframe\">\n",
       "  <thead>\n",
       "    <tr style=\"text-align: right;\">\n",
       "      <th></th>\n",
       "      <th>caseid</th>\n",
       "      <th>rscrinf</th>\n",
       "      <th>rdormres</th>\n",
       "      <th>rostscrn</th>\n",
       "      <th>rscreenhisp</th>\n",
       "      <th>rscreenrace</th>\n",
       "      <th>age_a</th>\n",
       "      <th>age_r</th>\n",
       "      <th>cmbirth</th>\n",
       "      <th>agescrn</th>\n",
       "      <th>...</th>\n",
       "      <th>pubassis_i</th>\n",
       "      <th>basewgt</th>\n",
       "      <th>adj_mod_basewgt</th>\n",
       "      <th>finalwgt</th>\n",
       "      <th>secu_r</th>\n",
       "      <th>sest</th>\n",
       "      <th>cmintvw</th>\n",
       "      <th>cmlstyr</th>\n",
       "      <th>screentime</th>\n",
       "      <th>intvlngth</th>\n",
       "    </tr>\n",
       "  </thead>\n",
       "  <tbody>\n",
       "    <tr>\n",
       "      <th>0</th>\n",
       "      <td>2298</td>\n",
       "      <td>1</td>\n",
       "      <td>5</td>\n",
       "      <td>5</td>\n",
       "      <td>1</td>\n",
       "      <td>5.0</td>\n",
       "      <td>27</td>\n",
       "      <td>27</td>\n",
       "      <td>902</td>\n",
       "      <td>27</td>\n",
       "      <td>...</td>\n",
       "      <td>0</td>\n",
       "      <td>3247.916977</td>\n",
       "      <td>5123.759559</td>\n",
       "      <td>5556.717241</td>\n",
       "      <td>2</td>\n",
       "      <td>18</td>\n",
       "      <td>1234</td>\n",
       "      <td>1222</td>\n",
       "      <td>18:26:36</td>\n",
       "      <td>110.492667</td>\n",
       "    </tr>\n",
       "    <tr>\n",
       "      <th>1</th>\n",
       "      <td>5012</td>\n",
       "      <td>1</td>\n",
       "      <td>5</td>\n",
       "      <td>1</td>\n",
       "      <td>5</td>\n",
       "      <td>5.0</td>\n",
       "      <td>42</td>\n",
       "      <td>42</td>\n",
       "      <td>718</td>\n",
       "      <td>42</td>\n",
       "      <td>...</td>\n",
       "      <td>0</td>\n",
       "      <td>2335.279149</td>\n",
       "      <td>2846.799490</td>\n",
       "      <td>4744.191350</td>\n",
       "      <td>2</td>\n",
       "      <td>18</td>\n",
       "      <td>1233</td>\n",
       "      <td>1221</td>\n",
       "      <td>16:30:59</td>\n",
       "      <td>64.294000</td>\n",
       "    </tr>\n",
       "    <tr>\n",
       "      <th>2</th>\n",
       "      <td>11586</td>\n",
       "      <td>1</td>\n",
       "      <td>5</td>\n",
       "      <td>1</td>\n",
       "      <td>5</td>\n",
       "      <td>5.0</td>\n",
       "      <td>43</td>\n",
       "      <td>43</td>\n",
       "      <td>708</td>\n",
       "      <td>43</td>\n",
       "      <td>...</td>\n",
       "      <td>0</td>\n",
       "      <td>2335.279149</td>\n",
       "      <td>2846.799490</td>\n",
       "      <td>4744.191350</td>\n",
       "      <td>2</td>\n",
       "      <td>18</td>\n",
       "      <td>1234</td>\n",
       "      <td>1222</td>\n",
       "      <td>18:19:09</td>\n",
       "      <td>75.149167</td>\n",
       "    </tr>\n",
       "    <tr>\n",
       "      <th>3</th>\n",
       "      <td>6794</td>\n",
       "      <td>5</td>\n",
       "      <td>5</td>\n",
       "      <td>4</td>\n",
       "      <td>1</td>\n",
       "      <td>5.0</td>\n",
       "      <td>15</td>\n",
       "      <td>15</td>\n",
       "      <td>1042</td>\n",
       "      <td>15</td>\n",
       "      <td>...</td>\n",
       "      <td>0</td>\n",
       "      <td>3783.152221</td>\n",
       "      <td>5071.464231</td>\n",
       "      <td>5923.977368</td>\n",
       "      <td>2</td>\n",
       "      <td>18</td>\n",
       "      <td>1234</td>\n",
       "      <td>1222</td>\n",
       "      <td>15:54:43</td>\n",
       "      <td>28.642833</td>\n",
       "    </tr>\n",
       "    <tr>\n",
       "      <th>4</th>\n",
       "      <td>616</td>\n",
       "      <td>1</td>\n",
       "      <td>5</td>\n",
       "      <td>4</td>\n",
       "      <td>1</td>\n",
       "      <td>5.0</td>\n",
       "      <td>20</td>\n",
       "      <td>20</td>\n",
       "      <td>991</td>\n",
       "      <td>20</td>\n",
       "      <td>...</td>\n",
       "      <td>0</td>\n",
       "      <td>5341.329968</td>\n",
       "      <td>6437.335772</td>\n",
       "      <td>7229.128072</td>\n",
       "      <td>2</td>\n",
       "      <td>18</td>\n",
       "      <td>1233</td>\n",
       "      <td>1221</td>\n",
       "      <td>14:19:44</td>\n",
       "      <td>69.502667</td>\n",
       "    </tr>\n",
       "  </tbody>\n",
       "</table>\n",
       "<p>5 rows × 3087 columns</p>\n",
       "</div>"
      ],
      "text/plain": [
       "   caseid  rscrinf  rdormres  rostscrn  rscreenhisp  rscreenrace  age_a   \n",
       "0    2298        1         5         5            1          5.0     27  \\\n",
       "1    5012        1         5         1            5          5.0     42   \n",
       "2   11586        1         5         1            5          5.0     43   \n",
       "3    6794        5         5         4            1          5.0     15   \n",
       "4     616        1         5         4            1          5.0     20   \n",
       "\n",
       "   age_r  cmbirth  agescrn  ...  pubassis_i      basewgt  adj_mod_basewgt   \n",
       "0     27      902       27  ...           0  3247.916977      5123.759559  \\\n",
       "1     42      718       42  ...           0  2335.279149      2846.799490   \n",
       "2     43      708       43  ...           0  2335.279149      2846.799490   \n",
       "3     15     1042       15  ...           0  3783.152221      5071.464231   \n",
       "4     20      991       20  ...           0  5341.329968      6437.335772   \n",
       "\n",
       "      finalwgt  secu_r  sest  cmintvw  cmlstyr  screentime   intvlngth  \n",
       "0  5556.717241       2    18     1234     1222    18:26:36  110.492667  \n",
       "1  4744.191350       2    18     1233     1221    16:30:59   64.294000  \n",
       "2  4744.191350       2    18     1234     1222    18:19:09   75.149167  \n",
       "3  5923.977368       2    18     1234     1222    15:54:43   28.642833  \n",
       "4  7229.128072       2    18     1233     1221    14:19:44   69.502667  \n",
       "\n",
       "[5 rows x 3087 columns]"
      ]
     },
     "execution_count": 20,
     "metadata": {},
     "output_type": "execute_result"
    }
   ],
   "source": [
    "resp.head()"
   ]
  },
  {
   "cell_type": "markdown",
   "id": "22a91ddb-ab7e-4985-9edf-eea0b8809701",
   "metadata": {},
   "source": [
    "select the age_r column from resp and print the value counts. How old are teh youngest and oldest respondents?"
   ]
  },
  {
   "cell_type": "code",
   "execution_count": 21,
   "id": "de53a390-1c7d-4653-b9e6-8a80200a2c17",
   "metadata": {},
   "outputs": [
    {
     "data": {
      "text/plain": [
       "age_r\n",
       "30    292\n",
       "22    287\n",
       "23    282\n",
       "31    278\n",
       "32    273\n",
       "37    271\n",
       "24    269\n",
       "25    267\n",
       "21    267\n",
       "36    266\n",
       "35    262\n",
       "29    262\n",
       "26    260\n",
       "20    258\n",
       "33    257\n",
       "38    256\n",
       "40    256\n",
       "27    255\n",
       "34    255\n",
       "43    253\n",
       "28    252\n",
       "41    250\n",
       "19    241\n",
       "18    235\n",
       "44    235\n",
       "17    234\n",
       "16    223\n",
       "15    217\n",
       "42    215\n",
       "39    215\n",
       "Name: count, dtype: int64"
      ]
     },
     "execution_count": 21,
     "metadata": {},
     "output_type": "execute_result"
    }
   ],
   "source": [
    "resp.age_r.value_counts()"
   ]
  },
  {
   "cell_type": "code",
   "execution_count": 22,
   "id": "103de5e6-43d4-4211-a41a-60753bf247ce",
   "metadata": {},
   "outputs": [
    {
     "data": {
      "text/plain": [
       "age_r\n",
       "30    292\n",
       "22    287\n",
       "23    282\n",
       "31    278\n",
       "32    273\n",
       "37    271\n",
       "24    269\n",
       "25    267\n",
       "21    267\n",
       "36    266\n",
       "35    262\n",
       "29    262\n",
       "26    260\n",
       "20    258\n",
       "33    257\n",
       "38    256\n",
       "40    256\n",
       "27    255\n",
       "34    255\n",
       "43    253\n",
       "28    252\n",
       "41    250\n",
       "19    241\n",
       "18    235\n",
       "44    235\n",
       "17    234\n",
       "16    223\n",
       "15    217\n",
       "42    215\n",
       "39    215\n",
       "Name: count, dtype: int64"
      ]
     },
     "execution_count": 22,
     "metadata": {},
     "output_type": "execute_result"
    }
   ],
   "source": [
    "resp['age_r'].value_counts()"
   ]
  },
  {
   "cell_type": "markdown",
   "id": "ba18cd84-32a0-4aff-b6e9-63131abce3cf",
   "metadata": {},
   "source": [
    "We can use the caseid to match up rows from resp and preg. For example, we can select the row from resp for caseid 2298 like this:"
   ]
  },
  {
   "cell_type": "code",
   "execution_count": 23,
   "id": "dd8d8e79-930c-4b00-a014-edc57df3bbe8",
   "metadata": {},
   "outputs": [
    {
     "data": {
      "text/html": [
       "<div>\n",
       "<style scoped>\n",
       "    .dataframe tbody tr th:only-of-type {\n",
       "        vertical-align: middle;\n",
       "    }\n",
       "\n",
       "    .dataframe tbody tr th {\n",
       "        vertical-align: top;\n",
       "    }\n",
       "\n",
       "    .dataframe thead th {\n",
       "        text-align: right;\n",
       "    }\n",
       "</style>\n",
       "<table border=\"1\" class=\"dataframe\">\n",
       "  <thead>\n",
       "    <tr style=\"text-align: right;\">\n",
       "      <th></th>\n",
       "      <th>caseid</th>\n",
       "      <th>rscrinf</th>\n",
       "      <th>rdormres</th>\n",
       "      <th>rostscrn</th>\n",
       "      <th>rscreenhisp</th>\n",
       "      <th>rscreenrace</th>\n",
       "      <th>age_a</th>\n",
       "      <th>age_r</th>\n",
       "      <th>cmbirth</th>\n",
       "      <th>agescrn</th>\n",
       "      <th>...</th>\n",
       "      <th>pubassis_i</th>\n",
       "      <th>basewgt</th>\n",
       "      <th>adj_mod_basewgt</th>\n",
       "      <th>finalwgt</th>\n",
       "      <th>secu_r</th>\n",
       "      <th>sest</th>\n",
       "      <th>cmintvw</th>\n",
       "      <th>cmlstyr</th>\n",
       "      <th>screentime</th>\n",
       "      <th>intvlngth</th>\n",
       "    </tr>\n",
       "  </thead>\n",
       "  <tbody>\n",
       "    <tr>\n",
       "      <th>0</th>\n",
       "      <td>2298</td>\n",
       "      <td>1</td>\n",
       "      <td>5</td>\n",
       "      <td>5</td>\n",
       "      <td>1</td>\n",
       "      <td>5.0</td>\n",
       "      <td>27</td>\n",
       "      <td>27</td>\n",
       "      <td>902</td>\n",
       "      <td>27</td>\n",
       "      <td>...</td>\n",
       "      <td>0</td>\n",
       "      <td>3247.916977</td>\n",
       "      <td>5123.759559</td>\n",
       "      <td>5556.717241</td>\n",
       "      <td>2</td>\n",
       "      <td>18</td>\n",
       "      <td>1234</td>\n",
       "      <td>1222</td>\n",
       "      <td>18:26:36</td>\n",
       "      <td>110.492667</td>\n",
       "    </tr>\n",
       "  </tbody>\n",
       "</table>\n",
       "<p>1 rows × 3087 columns</p>\n",
       "</div>"
      ],
      "text/plain": [
       "   caseid  rscrinf  rdormres  rostscrn  rscreenhisp  rscreenrace  age_a   \n",
       "0    2298        1         5         5            1          5.0     27  \\\n",
       "\n",
       "   age_r  cmbirth  agescrn  ...  pubassis_i      basewgt  adj_mod_basewgt   \n",
       "0     27      902       27  ...           0  3247.916977      5123.759559  \\\n",
       "\n",
       "      finalwgt  secu_r  sest  cmintvw  cmlstyr  screentime   intvlngth  \n",
       "0  5556.717241       2    18     1234     1222    18:26:36  110.492667  \n",
       "\n",
       "[1 rows x 3087 columns]"
      ]
     },
     "execution_count": 23,
     "metadata": {},
     "output_type": "execute_result"
    }
   ],
   "source": [
    "resp[resp.caseid==2298]"
   ]
  },
  {
   "cell_type": "markdown",
   "id": "a7a74e3f-7b88-41db-884b-e19738dc4547",
   "metadata": {},
   "source": [
    "And we can get the corresponding rows from preg liket this "
   ]
  },
  {
   "cell_type": "code",
   "execution_count": 24,
   "id": "ff6bad40-420f-49f8-a814-39ee4801c44e",
   "metadata": {},
   "outputs": [
    {
     "data": {
      "text/html": [
       "<div>\n",
       "<style scoped>\n",
       "    .dataframe tbody tr th:only-of-type {\n",
       "        vertical-align: middle;\n",
       "    }\n",
       "\n",
       "    .dataframe tbody tr th {\n",
       "        vertical-align: top;\n",
       "    }\n",
       "\n",
       "    .dataframe thead th {\n",
       "        text-align: right;\n",
       "    }\n",
       "</style>\n",
       "<table border=\"1\" class=\"dataframe\">\n",
       "  <thead>\n",
       "    <tr style=\"text-align: right;\">\n",
       "      <th></th>\n",
       "      <th>caseid</th>\n",
       "      <th>pregordr</th>\n",
       "      <th>howpreg_n</th>\n",
       "      <th>howpreg_p</th>\n",
       "      <th>moscurrp</th>\n",
       "      <th>nowprgdk</th>\n",
       "      <th>pregend1</th>\n",
       "      <th>pregend2</th>\n",
       "      <th>nbrnaliv</th>\n",
       "      <th>multbrth</th>\n",
       "      <th>...</th>\n",
       "      <th>religion_i</th>\n",
       "      <th>metro_i</th>\n",
       "      <th>basewgt</th>\n",
       "      <th>adj_mod_basewgt</th>\n",
       "      <th>finalwgt</th>\n",
       "      <th>secu_p</th>\n",
       "      <th>sest</th>\n",
       "      <th>cmintvw</th>\n",
       "      <th>totalwgt_lb</th>\n",
       "      <th>totalwgt_kg</th>\n",
       "    </tr>\n",
       "  </thead>\n",
       "  <tbody>\n",
       "    <tr>\n",
       "      <th>2610</th>\n",
       "      <td>2298</td>\n",
       "      <td>1</td>\n",
       "      <td>NaN</td>\n",
       "      <td>NaN</td>\n",
       "      <td>NaN</td>\n",
       "      <td>NaN</td>\n",
       "      <td>6.0</td>\n",
       "      <td>NaN</td>\n",
       "      <td>1.0</td>\n",
       "      <td>NaN</td>\n",
       "      <td>...</td>\n",
       "      <td>0</td>\n",
       "      <td>0</td>\n",
       "      <td>3247.916977</td>\n",
       "      <td>5123.759559</td>\n",
       "      <td>5556.717241</td>\n",
       "      <td>2</td>\n",
       "      <td>18</td>\n",
       "      <td>NaN</td>\n",
       "      <td>6.8750</td>\n",
       "      <td>6.861635</td>\n",
       "    </tr>\n",
       "    <tr>\n",
       "      <th>2611</th>\n",
       "      <td>2298</td>\n",
       "      <td>2</td>\n",
       "      <td>NaN</td>\n",
       "      <td>NaN</td>\n",
       "      <td>NaN</td>\n",
       "      <td>NaN</td>\n",
       "      <td>6.0</td>\n",
       "      <td>NaN</td>\n",
       "      <td>1.0</td>\n",
       "      <td>NaN</td>\n",
       "      <td>...</td>\n",
       "      <td>0</td>\n",
       "      <td>0</td>\n",
       "      <td>3247.916977</td>\n",
       "      <td>5123.759559</td>\n",
       "      <td>5556.717241</td>\n",
       "      <td>2</td>\n",
       "      <td>18</td>\n",
       "      <td>NaN</td>\n",
       "      <td>5.5000</td>\n",
       "      <td>6.861635</td>\n",
       "    </tr>\n",
       "    <tr>\n",
       "      <th>2612</th>\n",
       "      <td>2298</td>\n",
       "      <td>3</td>\n",
       "      <td>NaN</td>\n",
       "      <td>NaN</td>\n",
       "      <td>NaN</td>\n",
       "      <td>NaN</td>\n",
       "      <td>6.0</td>\n",
       "      <td>NaN</td>\n",
       "      <td>1.0</td>\n",
       "      <td>NaN</td>\n",
       "      <td>...</td>\n",
       "      <td>0</td>\n",
       "      <td>0</td>\n",
       "      <td>3247.916977</td>\n",
       "      <td>5123.759559</td>\n",
       "      <td>5556.717241</td>\n",
       "      <td>2</td>\n",
       "      <td>18</td>\n",
       "      <td>NaN</td>\n",
       "      <td>4.1875</td>\n",
       "      <td>6.861635</td>\n",
       "    </tr>\n",
       "    <tr>\n",
       "      <th>2613</th>\n",
       "      <td>2298</td>\n",
       "      <td>4</td>\n",
       "      <td>NaN</td>\n",
       "      <td>NaN</td>\n",
       "      <td>NaN</td>\n",
       "      <td>NaN</td>\n",
       "      <td>6.0</td>\n",
       "      <td>NaN</td>\n",
       "      <td>1.0</td>\n",
       "      <td>NaN</td>\n",
       "      <td>...</td>\n",
       "      <td>0</td>\n",
       "      <td>0</td>\n",
       "      <td>3247.916977</td>\n",
       "      <td>5123.759559</td>\n",
       "      <td>5556.717241</td>\n",
       "      <td>2</td>\n",
       "      <td>18</td>\n",
       "      <td>NaN</td>\n",
       "      <td>6.8750</td>\n",
       "      <td>6.861635</td>\n",
       "    </tr>\n",
       "  </tbody>\n",
       "</table>\n",
       "<p>4 rows × 245 columns</p>\n",
       "</div>"
      ],
      "text/plain": [
       "      caseid  pregordr  howpreg_n  howpreg_p  moscurrp  nowprgdk  pregend1   \n",
       "2610    2298         1        NaN        NaN       NaN       NaN       6.0  \\\n",
       "2611    2298         2        NaN        NaN       NaN       NaN       6.0   \n",
       "2612    2298         3        NaN        NaN       NaN       NaN       6.0   \n",
       "2613    2298         4        NaN        NaN       NaN       NaN       6.0   \n",
       "\n",
       "      pregend2  nbrnaliv  multbrth  ...  religion_i  metro_i      basewgt   \n",
       "2610       NaN       1.0       NaN  ...           0        0  3247.916977  \\\n",
       "2611       NaN       1.0       NaN  ...           0        0  3247.916977   \n",
       "2612       NaN       1.0       NaN  ...           0        0  3247.916977   \n",
       "2613       NaN       1.0       NaN  ...           0        0  3247.916977   \n",
       "\n",
       "      adj_mod_basewgt     finalwgt  secu_p  sest  cmintvw  totalwgt_lb   \n",
       "2610      5123.759559  5556.717241       2    18      NaN       6.8750  \\\n",
       "2611      5123.759559  5556.717241       2    18      NaN       5.5000   \n",
       "2612      5123.759559  5556.717241       2    18      NaN       4.1875   \n",
       "2613      5123.759559  5556.717241       2    18      NaN       6.8750   \n",
       "\n",
       "      totalwgt_kg  \n",
       "2610     6.861635  \n",
       "2611     6.861635  \n",
       "2612     6.861635  \n",
       "2613     6.861635  \n",
       "\n",
       "[4 rows x 245 columns]"
      ]
     },
     "execution_count": 24,
     "metadata": {},
     "output_type": "execute_result"
    }
   ],
   "source": [
    "preg[preg.caseid==2298]"
   ]
  },
  {
   "cell_type": "markdown",
   "id": "5150f417-5ed9-459a-a5f0-9e6334a7fb68",
   "metadata": {},
   "source": [
    "But we know that we have only 245 column in preg dataset"
   ]
  },
  {
   "cell_type": "markdown",
   "id": "6dd7cd54-82f5-4459-9d13-20b13de65060",
   "metadata": {},
   "source": [
    "How old is the respondent with caseid?"
   ]
  },
  {
   "cell_type": "code",
   "execution_count": 27,
   "id": "cb467637-d48c-4324-b62d-a8802181e8f6",
   "metadata": {},
   "outputs": [
    {
     "data": {
      "text/plain": [
       "<bound method IndexOpsMixin.value_counts of 0        2298\n",
       "1        5012\n",
       "2       11586\n",
       "3        6794\n",
       "4         616\n",
       "        ...  \n",
       "7638    11018\n",
       "7639     6075\n",
       "7640     5649\n",
       "7641      501\n",
       "7642    10252\n",
       "Name: caseid, Length: 7643, dtype: int64>"
      ]
     },
     "execution_count": 27,
     "metadata": {},
     "output_type": "execute_result"
    }
   ],
   "source": [
    "resp['caseid'].value_counts"
   ]
  },
  {
   "cell_type": "code",
   "execution_count": 29,
   "id": "4b38cb8d-bc6f-4329-9b62-bcbee9e2fcc0",
   "metadata": {},
   "outputs": [
    {
     "name": "stdout",
     "output_type": "stream",
     "text": [
      "The age of the respondent with case ID 2298 is 27 years.\n"
     ]
    }
   ],
   "source": [
    "case_id_to_find = 2298  # Change this to the case ID you want to look up\n",
    "\n",
    "age = resp.loc[resp['caseid'] == case_id_to_find, 'age_a'].values[0]\n",
    "\n",
    "print(f\"The age of the respondent with case ID {case_id_to_find} is {age} years.\")\n"
   ]
  },
  {
   "cell_type": "code",
   "execution_count": 31,
   "id": "0368ef0a-60e8-44d4-a98b-21cd94a0bcfd",
   "metadata": {},
   "outputs": [
    {
     "data": {
      "text/plain": [
       "0    27\n",
       "Name: age_r, dtype: int64"
      ]
     },
     "execution_count": 31,
     "metadata": {},
     "output_type": "execute_result"
    }
   ],
   "source": [
    "resp.loc[resp['caseid']==2298, 'age_r']"
   ]
  },
  {
   "cell_type": "markdown",
   "id": "5586a45d-858b-4d0d-80ef-5ce8ee3f1d0b",
   "metadata": {},
   "source": [
    "What are the pregnancy lengths for the respondent with caseid 2298"
   ]
  },
  {
   "cell_type": "markdown",
   "id": "67066a69-70bc-4eaa-aed3-f19bc2f5c239",
   "metadata": {},
   "source": [
    "To find out pregnancy lengths between 0 to 3087 it was quite hard for me that why I used another column"
   ]
  },
  {
   "cell_type": "code",
   "execution_count": null,
   "id": "5ebdfbc8-b45e-4481-ae13-d50966d806eb",
   "metadata": {},
   "outputs": [],
   "source": [
    "caseid = resp[resp['caseid'] == 2298]"
   ]
  },
  {
   "cell_type": "code",
   "execution_count": 34,
   "id": "6e077c9d-b36c-49ab-935f-b41809cd61c1",
   "metadata": {},
   "outputs": [
    {
     "data": {
      "text/plain": [
       "0    18:26:36\n",
       "Name: screentime, dtype: object"
      ]
     },
     "execution_count": 34,
     "metadata": {},
     "output_type": "execute_result"
    }
   ],
   "source": [
    "caseid.screentime\t# instead of screentime we just to put name of pregnancy lengths. "
   ]
  },
  {
   "cell_type": "markdown",
   "id": "d93d543c-57eb-4524-b9a6-d974b22280fa",
   "metadata": {},
   "source": [
    "What was the birthweight of the first baby born to the respondent with caseid 5012?"
   ]
  },
  {
   "cell_type": "code",
   "execution_count": 35,
   "id": "969f416a-2895-4326-a519-6df1564d05b2",
   "metadata": {},
   "outputs": [],
   "source": [
    "caseid = resp[resp['caseid'] == 5012]"
   ]
  },
  {
   "cell_type": "code",
   "execution_count": 36,
   "id": "c83f4d14-1215-4c01-ab04-2e4b5efdc04d",
   "metadata": {},
   "outputs": [
    {
     "data": {
      "text/plain": [
       "1    718\n",
       "Name: cmbirth, dtype: int64"
      ]
     },
     "execution_count": 36,
     "metadata": {},
     "output_type": "execute_result"
    }
   ],
   "source": [
    "caseid.cmbirth"
   ]
  },
  {
   "cell_type": "code",
   "execution_count": null,
   "id": "92da3b84-c3fd-4cb7-a257-8d96884f808f",
   "metadata": {},
   "outputs": [],
   "source": []
  }
 ],
 "metadata": {
  "kernelspec": {
   "display_name": "Python 3 (ipykernel)",
   "language": "python",
   "name": "python3"
  },
  "language_info": {
   "codemirror_mode": {
    "name": "ipython",
    "version": 3
   },
   "file_extension": ".py",
   "mimetype": "text/x-python",
   "name": "python",
   "nbconvert_exporter": "python",
   "pygments_lexer": "ipython3",
   "version": "3.11.5"
  }
 },
 "nbformat": 4,
 "nbformat_minor": 5
}

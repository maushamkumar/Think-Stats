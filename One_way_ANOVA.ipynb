{
  "nbformat": 4,
  "nbformat_minor": 0,
  "metadata": {
    "colab": {
      "provenance": [],
      "authorship_tag": "ABX9TyOnSoYnzwmae81WyAsmCBVH",
      "include_colab_link": true
    },
    "kernelspec": {
      "name": "python3",
      "display_name": "Python 3"
    },
    "language_info": {
      "name": "python"
    }
  },
  "cells": [
    {
      "cell_type": "markdown",
      "metadata": {
        "id": "view-in-github",
        "colab_type": "text"
      },
      "source": [
        "<a href=\"https://colab.research.google.com/github/maushamkumar/Think-Stats/blob/main/One_way_ANOVA.ipynb\" target=\"_parent\"><img src=\"https://colab.research.google.com/assets/colab-badge.svg\" alt=\"Open In Colab\"/></a>"
      ]
    },
    {
      "cell_type": "code",
      "execution_count": 1,
      "metadata": {
        "id": "GL2_tSQkLBTv"
      },
      "outputs": [],
      "source": [
        "import pandas as pd\n",
        "import numpy as np\n",
        "from scipy.stats import chisquare\n",
        "\n"
      ]
    },
    {
      "cell_type": "code",
      "source": [
        "# Load the dataset\n",
        "df = pd.read_csv('/content/train.csv')"
      ],
      "metadata": {
        "id": "osvzsqHLLbD7"
      },
      "execution_count": 2,
      "outputs": []
    },
    {
      "cell_type": "code",
      "source": [
        "import statsmodels.api as sm\n",
        "from statsmodels.formula.api import ols\n",
        "\n",
        "model = ols('Age ~ Pclass', data=df).fit()\n",
        "aov_table = sm.stats.anova_lm(model, typ=2)\n",
        "print(aov_table)"
      ],
      "metadata": {
        "colab": {
          "base_uri": "https://localhost:8080/"
        },
        "id": "E3OEHYNCLtEY",
        "outputId": "c9a79852-81c3-401f-d075-9a2d91dcebd6"
      },
      "execution_count": 3,
      "outputs": [
        {
          "output_type": "stream",
          "name": "stdout",
          "text": [
            "                 sum_sq     df           F        PR(>F)\n",
            "Pclass     20511.429755    1.0  112.386893  1.756699e-24\n",
            "Residual  129945.206190  712.0         NaN           NaN\n"
          ]
        }
      ]
    },
    {
      "cell_type": "code",
      "source": [
        "import scipy.stats as stats\n",
        "\n",
        "for class1, class2 in [(1, 2), (2, 3), (3,1)]:\n",
        "  print(class1, class2)\n",
        "  print(stats.ttest_ind(df[df['Pclass'] == class1]['Age'], df[df['Pclass'] == class2]['Age']))"
      ],
      "metadata": {
        "colab": {
          "base_uri": "https://localhost:8080/"
        },
        "id": "T4ryEptIMDBI",
        "outputId": "e47930c3-90e5-41a5-ee01-007d0b711849"
      },
      "execution_count": 4,
      "outputs": [
        {
          "output_type": "stream",
          "name": "stdout",
          "text": [
            "1 2\n",
            "TtestResult(statistic=nan, pvalue=nan, df=nan)\n",
            "2 3\n",
            "TtestResult(statistic=nan, pvalue=nan, df=nan)\n",
            "3 1\n",
            "TtestResult(statistic=nan, pvalue=nan, df=nan)\n"
          ]
        }
      ]
    },
    {
      "cell_type": "markdown",
      "source": [
        "Ek galti ka prob 0.05 lete h ab mai theno ka type error add kar dunga probability 0.95 x 0.095 x 0.95 these three are independent event then (0.95 x 0.95 x 0.95) = 0.85. Atleast one error hone ke 0.15%  "
      ],
      "metadata": {
        "id": "yk2Qys3VQTrA"
      }
    }
  ]
}